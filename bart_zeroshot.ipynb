{
 "cells": [
  {
   "cell_type": "code",
   "execution_count": null,
   "metadata": {
    "collapsed": true
   },
   "outputs": [],
   "source": []
  },
  {
   "cell_type": "code",
   "execution_count": null,
   "outputs": [],
   "source": [
    "# Dependencies: transformers, pandas, torch\n",
    "\n",
    "from transformers import pipeline\n",
    "import pandas as pd\n",
    "\n",
    "# setting up model\n",
    "classifier = pipeline(\"zero-shot-classification\",\n",
    "                      model=\"facebook/bart-large-mnli\", device=0)\n",
    "\n",
    "# abstracts to classify\n",
    "data = pd.read_csv(\"data_for_abstract_classification.csv\")\n",
    "\n",
    "# all labels\n",
    "candidate_labels = ['biology', 'chemistry', 'computer science', 'physics', 'robotics']\n",
    "\n",
    "output = []\n",
    "\n",
    "# classifying all sentences using zeroshot\n",
    "for i in range(len(data)):\n",
    "    sequence_to_classify = str(data[\"abstract\"][i])\n",
    "    temp = classifier(sequence_to_classify, candidate_labels)\n",
    "    temp[\"actual_classification\"] = data[\"classification\"][i]\n",
    "    for j in range(len(temp[\"labels\"])):\n",
    "        temp[temp[\"labels\"][j]]=temp[\"scores\"][j]\n",
    "    temp.pop(\"scores\")\n",
    "    temp.pop(\"labels\")\n",
    "    output.append(temp)\n",
    "    print(i)\n",
    "\n",
    "# saving output\n",
    "pd.DataFrame.from_dict(output).to_csv(\"zeroshot_abstract_classification.csv\")"
   ],
   "metadata": {
    "collapsed": false
   }
  }
 ],
 "metadata": {
  "kernelspec": {
   "display_name": "Python 3",
   "language": "python",
   "name": "python3"
  },
  "language_info": {
   "codemirror_mode": {
    "name": "ipython",
    "version": 2
   },
   "file_extension": ".py",
   "mimetype": "text/x-python",
   "name": "python",
   "nbconvert_exporter": "python",
   "pygments_lexer": "ipython2",
   "version": "2.7.6"
  }
 },
 "nbformat": 4,
 "nbformat_minor": 0
}
